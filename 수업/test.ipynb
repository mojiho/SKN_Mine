{
 "cells": [
  {
   "cell_type": "code",
   "execution_count": null,
   "id": "839a676e-443b-4b5d-80ed-ddd1981ebbb7",
   "metadata": {
    "editable": true,
    "slideshow": {
     "slide_type": ""
    },
    "tags": []
   },
   "outputs": [],
   "source": [
    "# shift + enter : 실행 후 다음 cell로 이동\n",
    "# control + enter : 실행 후 그 cell에 머물러 있는다."
   ]
  },
  {
   "cell_type": "markdown",
   "id": "c59355bd-68b6-40ed-a09c-e12d9ff37711",
   "metadata": {},
   "source": [
    "# 명령모드\n",
    "\n",
    "#   - a : 위에 빈 cell을 추가\n",
    "#   - b : 아래 빈 cell을 추가\n",
    "#   - c : cell 잘라내기\n",
    "#   - v : cell 붙여넣기\n",
    "#   - dd : cell 삭제\n",
    "#   - y : cell을 **코드모드**로 변경\n",
    "#   - m : cell을 *마크다운*으로 변경"
   ]
  },
  {
   "cell_type": "code",
   "execution_count": null,
   "id": "acaf7f9c-9379-4bcf-926c-868f6bc7d4df",
   "metadata": {},
   "outputs": [],
   "source": []
  }
 ],
 "metadata": {
  "kernelspec": {
   "display_name": "Python 3 (ipykernel)",
   "language": "python",
   "name": "python3"
  },
  "language_info": {
   "codemirror_mode": {
    "name": "ipython",
    "version": 3
   },
   "file_extension": ".py",
   "mimetype": "text/x-python",
   "name": "python",
   "nbconvert_exporter": "python",
   "pygments_lexer": "ipython3",
   "version": "3.12.7"
  }
 },
 "nbformat": 4,
 "nbformat_minor": 5
}
